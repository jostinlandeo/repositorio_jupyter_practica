{
  "metadata": {
    "kernelspec": {
      "name": "python",
      "display_name": "Python (Pyodide)",
      "language": "python"
    },
    "language_info": {
      "codemirror_mode": {
        "name": "python",
        "version": 3
      },
      "file_extension": ".py",
      "mimetype": "text/x-python",
      "name": "python",
      "nbconvert_exporter": "python",
      "pygments_lexer": "ipython3",
      "version": "3.8"
    }
  },
  "nbformat_minor": 4,
  "nbformat": 4,
  "cells": [
    {
      "cell_type": "markdown",
      "source": "# MI CUADERNO DE PRUEBA",
      "metadata": {}
    },
    {
      "cell_type": "markdown",
      "source": "## INTRODUCCIÓN",
      "metadata": {}
    },
    {
      "cell_type": "markdown",
      "source": "Este es un cuaderno de ejemplo en el que se realizara las actividades del curso de la plataforma Coursera",
      "metadata": {}
    },
    {
      "cell_type": "markdown",
      "source": "## Lenguajes de la ciencia de datos",
      "metadata": {}
    },
    {
      "cell_type": "markdown",
      "source": "La ciencia de datos utiliza diversos lenguajes de programación, algunos de los cuales se detalla a continuación:",
      "metadata": {}
    },
    {
      "cell_type": "markdown",
      "source": "### R",
      "metadata": {}
    },
    {
      "cell_type": "markdown",
      "source": "R es un lenguaje de programación y un entorno de software diseñado específicamente para la estadística y la visualización de datos. Es altamente utilizado en la investigación estadística, análisis de datos y modelado predictivo. R ofrece una amplia gama de paquetes y librerías especializadas para diversas tareas analíticas.",
      "metadata": {}
    },
    {
      "cell_type": "markdown",
      "source": "### Python",
      "metadata": {}
    },
    {
      "cell_type": "markdown",
      "source": "Python es un lenguaje de programación versátil y fácil de aprender, ampliamente utilizado en la ciencia de datos debido a su amplia gama de bibliotecas especializadas como Pandas, NumPy, Scikit-learn, Matplotlib y TensorFlow. Es conocido por su sintaxis limpia y legible, lo que lo hace ideal para prototipado rápido y desarrollo de aplicacione",
      "metadata": {}
    },
    {
      "cell_type": "markdown",
      "source": "### SQL",
      "metadata": {}
    },
    {
      "cell_type": "markdown",
      "source": "SQL (Structured Query Language) es un lenguaje de consulta utilizado para interactuar con bases de datos relacionales. Aunque no es un lenguaje de programación en el sentido tradicional, es fundamental en la ciencia de datos para la manipulación y extracción de datos de bases de datos, así como para la realización de consultas complejas.",
      "metadata": {}
    },
    {
      "cell_type": "markdown",
      "source": "### JULIA",
      "metadata": {}
    },
    {
      "cell_type": "markdown",
      "source": "Julia es un lenguaje de programación de alto rendimiento diseñado específicamente para la computación científica y numérica. Destaca por su velocidad de ejecución comparable a lenguajes compilados como C y Fortran, mientras mantiene una sintaxis amigable para el usuario. Julia está ganando popularidad en la comunidad científica debido a su eficiencia y facilidad de uso.",
      "metadata": {}
    },
    {
      "cell_type": "markdown",
      "source": "### JAVA",
      "metadata": {}
    },
    {
      "cell_type": "markdown",
      "source": "Java es un lenguaje de programación de propósito general conocido por su portabilidad y seguridad. Aunque no es tan comúnmente utilizado en la ciencia de datos como Python o R, Java se utiliza en el desarrollo de aplicaciones empresariales y en el backend de sistemas de información, y también se integra en herramientas y plataformas para el análisis de datos a gran escala, como Hadoop y Apache Flink.",
      "metadata": {}
    },
    {
      "cell_type": "markdown",
      "source": "## BIBLIOTECAS EN LA CIENCIA DE DATOS",
      "metadata": {}
    },
    {
      "cell_type": "markdown",
      "source": "### Pandas",
      "metadata": {}
    },
    {
      "cell_type": "markdown",
      "source": "Pandas es una biblioteca de Python que proporciona estructuras de datos flexibles y herramientas de análisis de datos para trabajar con datos tabulares. Es ampliamente utilizado para la manipulación, limpieza y preparación de datos antes de realizar análisis más avanzados. Pandas ofrece poderosos objetos de datos como DataFrame y Series, así como funciones para realizar operaciones de agregación, filtrado, agrupación y fusión de datos.",
      "metadata": {}
    },
    {
      "cell_type": "markdown",
      "source": "### NumPy",
      "metadata": {}
    },
    {
      "cell_type": "markdown",
      "source": "NumPy es una biblioteca fundamental para computación numérica en Python. Proporciona potentes estructuras de datos como arrays multidimensionales (ndarrays) y funciones para realizar operaciones matemáticas y estadísticas en estos arrays de manera eficiente. NumPy es ampliamente utilizado en la ciencia de datos para realizar cálculos numéricos, manipulación de datos y operaciones de álgebra lineal.",
      "metadata": {}
    },
    {
      "cell_type": "markdown",
      "source": "### Matplotlib",
      "metadata": {}
    },
    {
      "cell_type": "markdown",
      "source": "Matplotlib es una biblioteca de trazado en 2D de Python que produce visualizaciones de alta calidad en una variedad de formatos y entornos. Permite crear gráficos estáticos, interactivos y animados, y ofrece una amplia gama de opciones de personalización. Matplotlib es ampliamente utilizado en la visualización de datos en la ciencia de datos para explorar patrones, relaciones y distribuciones en los datos.",
      "metadata": {}
    },
    {
      "cell_type": "markdown",
      "source": "### Seaborn",
      "metadata": {}
    },
    {
      "cell_type": "markdown",
      "source": "Seaborn es una biblioteca de visualización de datos construida sobre Matplotlib que proporciona una interfaz de alto nivel para crear gráficos estadísticos informativos y atractivos. Seaborn simplifica la creación de gráficos complejos como diagramas de dispersión, gráficos de distribución y diagramas de violín, y ofrece estilos de trazado adicionales para mejorar la estética de las visualizaciones.",
      "metadata": {}
    },
    {
      "cell_type": "markdown",
      "source": "### Scikit-learn",
      "metadata": {}
    },
    {
      "cell_type": "markdown",
      "source": "Scikit-learn es una biblioteca de aprendizaje automático de código abierto para Python. Proporciona herramientas simples y eficientes para el análisis predictivo y el modelado de datos, incluyendo algoritmos de clasificación, regresión, agrupación, reducción de dimensionalidad y selección de modelos. Scikit-learn es ampliamente utilizado en la ciencia de datos para construir y evaluar modelos predictivos en una variedad de aplicaciones",
      "metadata": {}
    },
    {
      "cell_type": "markdown",
      "source": "## Herramientas para la ciencia de datos",
      "metadata": {}
    },
    {
      "cell_type": "markdown",
      "source": "|Herramientas|\n|---|\n|Anaconda|\n|R Studio|\n|Jupyter Notebooks|\n|Spyder|\n|Zeppelin|",
      "metadata": {}
    },
    {
      "cell_type": "markdown",
      "source": "## Ejemplo expresiones aritméticas",
      "metadata": {}
    },
    {
      "cell_type": "markdown",
      "source": "1. suma 2+2=5\n2. resta 15-5=10\n3. multiplicacion 8x5=40\n4. división 24/8=3\n5. Potenciación 2**4 = 16\n6. Radicacion 9**(1/2) = 3",
      "metadata": {}
    },
    {
      "cell_type": "markdown",
      "source": "## Multiplicación y suma de número",
      "metadata": {}
    },
    {
      "cell_type": "code",
      "source": "#Insertar los números a multiplicar y suma\nnum1 = 4\nnum2 = 10\n#Se realiza la multiplicación\nmult = num1 * num2\n#Se realiza la suma\nsum = num1 + num2\n#Se muestran los resultados\nprint(\"La multiplicación es:\",mult)\nprint(\"La suma es:\",sum)",
      "metadata": {
        "trusted": true
      },
      "outputs": [
        {
          "name": "stdout",
          "text": "La multiplicación es: 40\nLa suma es: 14\n",
          "output_type": "stream"
        }
      ],
      "execution_count": 3
    },
    {
      "cell_type": "markdown",
      "source": "## De minutos a horas",
      "metadata": {}
    },
    {
      "cell_type": "code",
      "source": "#se ingresa los minutos\nmin=185\n#se convierte los minutos a hora\nhr=min/60\nhr=round(hr,2)\n#se muestran los resultados\nprint(min,\"minutos convertidos a horas son:\\n\",hr,\"hrs\")",
      "metadata": {
        "trusted": true
      },
      "outputs": [
        {
          "name": "stdout",
          "text": "185 minutos convertidos a horas son:\n 3.08 hrs\n",
          "output_type": "stream"
        }
      ],
      "execution_count": 7
    },
    {
      "cell_type": "markdown",
      "source": "## Objetivos",
      "metadata": {}
    },
    {
      "cell_type": "code",
      "source": "objetivos_data_science = [\n    \"Dominar Python.\",\n    \"Entender estadística básica.\",\n    \"Manipular datos con Pandas.\",\n    \"Visualizar datos con Matplotlib y Seaborn.\",\n    \"Aprender álgebra lineal y cálculo.\",\n    \"Explorar aprendizaje supervisado.\",\n    \"Familiarizarse con aprendizaje no supervisado.\",\n    \"Entender aprendizaje profundo.\",\n    \"Evaluar y optimizar modelos.\",\n    \"Mejorar habilidades de comunicación.\"\n]\n#se imprime la lista de objetivos\nprint(\"Los objetivos son: \\n\")\nfor i in objetivos_data_science:\n    print(\"-\",i)",
      "metadata": {
        "trusted": true
      },
      "outputs": [
        {
          "name": "stdout",
          "text": "Los objetivos son: \n\n- Dominar Python.\n- Entender estadística básica.\n- Manipular datos con Pandas.\n- Visualizar datos con Matplotlib y Seaborn.\n- Aprender álgebra lineal y cálculo.\n- Explorar aprendizaje supervisado.\n- Familiarizarse con aprendizaje no supervisado.\n- Entender aprendizaje profundo.\n- Evaluar y optimizar modelos.\n- Mejorar habilidades de comunicación.\n",
          "output_type": "stream"
        }
      ],
      "execution_count": 15
    },
    {
      "cell_type": "markdown",
      "source": "## Autor",
      "metadata": {}
    },
    {
      "cell_type": "markdown",
      "source": "Jostin Landeo",
      "metadata": {}
    }
  ]
}